{
 "cells": [
  {
   "cell_type": "code",
   "execution_count": 1,
   "metadata": {},
   "outputs": [],
   "source": [
    "# Importing dependences\n",
    "import geopandas as gpd\n",
    "import pandas as pd\n",
    "from sklearn.preprocessing import LabelEncoder\n",
    "import numpy as np\n",
    "from sklearn.metrics import accuracy_score\n",
    "from sklearn.ensemble import RandomForestClassifier\n",
    "from sklearn.preprocessing import PolynomialFeatures"
   ]
  },
  {
   "cell_type": "code",
   "execution_count": 2,
   "metadata": {},
   "outputs": [],
   "source": [
    "# Read csvs\n",
    "\n",
    "train_df = gpd.read_file('train.geojson', index_col=0)\n",
    "test_df = gpd.read_file('test.geojson', index_col=0)"
   ]
  },
  {
   "cell_type": "code",
   "execution_count": 3,
   "metadata": {},
   "outputs": [
    {
     "name": "stdout",
     "output_type": "stream",
     "text": [
      "(310006, 13)\n",
      "(121704, 13)\n"
     ]
    }
   ],
   "source": [
    "# Preprocessing of the data\n",
    "le = LabelEncoder()\n",
    "\n",
    "change_type_map = {'Demolition': 0, 'Road': 1, 'Residential': 2, 'Commercial': 3, 'Industrial': 4, 'Mega Projects': 5}\n",
    "y_train = pd.DataFrame(train_df['change_type'].apply(lambda x: change_type_map[x]))\n",
    "\n",
    "def get_x(df):\n",
    "    x = pd.DataFrame()\n",
    "\n",
    "    # status dates\n",
    "    for i in range(1,6):\n",
    "        x['change_status_date{}'.format(i)] = le.fit_transform(df['change_status_date{}'.format(i)])\n",
    "\n",
    "\n",
    "    # urban types\n",
    "    x['urban_types'] = le.fit_transform(df['urban_types'])\n",
    "\n",
    "\n",
    "    # geometry features\n",
    "    # area\n",
    "    x['area'] = df[['geometry']].area\n",
    "    # perimeter\n",
    "    x['perimeter'] = df[['geometry']].length\n",
    "    # centroid of the polygon\n",
    "    x['x_centroid'] = df[['geometry']].centroid.x\n",
    "    x['y_centroid'] = df[['geometry']].centroid.y\n",
    "    # # length on the x and y axis\n",
    "    x['delta_x'] = df[['geometry']].bounds.maxx.subtract(df[['geometry']].bounds.minx)\n",
    "    x['delta_y'] = df[['geometry']].bounds.maxy.subtract(df[['geometry']].bounds.miny)\n",
    "    # angle of the diagonal and the base of the rectangle made by delta_x and delta_y\n",
    "    x['angle_diago'] = (x['delta_x'].div((x['delta_x'].apply(lambda x: x**2) + x['delta_y'].apply(lambda x: x**2)).apply(np.sqrt))).apply(np.arccos)\n",
    "    \n",
    "\n",
    "    return x\n",
    "\n",
    "x_train = get_x(train_df)\n",
    "x_test = get_x(test_df)\n",
    "print(x_train.shape)\n",
    "print(x_test.shape)"
   ]
  },
  {
   "cell_type": "code",
   "execution_count": 4,
   "metadata": {},
   "outputs": [],
   "source": [
    "# We compute polynomial features in order to tackle correlation between features\n",
    "\n",
    "poly = PolynomialFeatures(2, interaction_only=True)\n",
    "x_train = poly.fit_transform(x_train)\n",
    "x_test = poly.fit_transform(x_test)"
   ]
  },
  {
   "cell_type": "code",
   "execution_count": 5,
   "metadata": {},
   "outputs": [
    {
     "name": "stderr",
     "output_type": "stream",
     "text": [
      "<ipython-input-5-b1510a49f339>:4: DataConversionWarning: A column-vector y was passed when a 1d array was expected. Please change the shape of y to (n_samples,), for example using ravel().\n",
      "  rf_clf.fit(x_train, y_train)\n"
     ]
    },
    {
     "name": "stdout",
     "output_type": "stream",
     "text": [
      "0.8155616342909492\n"
     ]
    }
   ],
   "source": [
    "# Fit random forest classifier\n",
    "\n",
    "rf_clf = RandomForestClassifier(max_depth=15, random_state=0)\n",
    "rf_clf.fit(x_train, y_train)\n",
    "\n",
    "# Predict and assess\n",
    "\n",
    "y_pred_train_rf = rf_clf.predict(x_train)\n",
    "print(accuracy_score(y_train, y_pred_train_rf))"
   ]
  },
  {
   "cell_type": "code",
   "execution_count": 6,
   "metadata": {},
   "outputs": [],
   "source": [
    "# Save results to submission file\n",
    "\n",
    "def save_results(clf, name_file, x_kaggle=x_test):\n",
    "    y_pred_kaggle = pd.DataFrame(clf.predict(x_kaggle), columns=['change_type'])\n",
    "    y_pred_kaggle.to_csv(name_file+\"_sample_submission.csv\", index=True, index_label='Id')\n",
    "\n",
    "save_results(rf_clf, \"random_forest\")"
   ]
  }
 ],
 "metadata": {
  "interpreter": {
   "hash": "c4dd97f6e63f3ceeed1d89e97c28c3f49dd4b825c09c4f028583faf315403134"
  },
  "kernelspec": {
   "display_name": "Python 3.8.5 ('base')",
   "language": "python",
   "name": "python3"
  },
  "language_info": {
   "codemirror_mode": {
    "name": "ipython",
    "version": 3
   },
   "file_extension": ".py",
   "mimetype": "text/x-python",
   "name": "python",
   "nbconvert_exporter": "python",
   "pygments_lexer": "ipython3",
   "version": "3.8.5"
  },
  "orig_nbformat": 4
 },
 "nbformat": 4,
 "nbformat_minor": 2
}
