{
 "cells": [
  {
   "cell_type": "code",
   "execution_count": 1,
   "metadata": {},
   "outputs": [],
   "source": [
    "# imports necessary libraries\n",
    "import geopandas as gpd\n",
    "import pandas as pd\n",
    "from sklearn.preprocessing import LabelEncoder\n",
    "import numpy as np\n",
    "from sklearn.metrics import f1_score, accuracy_score\n",
    "from sklearn.model_selection import train_test_split\n",
    "import tensorflow as tf\n",
    "from matplotlib import pyplot as plt\n",
    "import numpy as np"
   ]
  },
  {
   "cell_type": "code",
   "execution_count": 2,
   "metadata": {},
   "outputs": [],
   "source": [
    "# Read csvs\n",
    "\n",
    "train_df = gpd.read_file('train.geojson', index_col=0)\n",
    "test_df = gpd.read_file('test.geojson', index_col=0)\n"
   ]
  },
  {
   "cell_type": "code",
   "execution_count": 3,
   "metadata": {},
   "outputs": [],
   "source": [
    "# Filtering columns on sets\n",
    "le = LabelEncoder()\n",
    "\n",
    "def get_x(df):\n",
    "    x = pd.DataFrame()\n",
    "\n",
    "    # status dates\n",
    "    for i in range(1,6):\n",
    "        x['change_status_date{}'.format(i)] = le.fit_transform(df['change_status_date{}'.format(i)])\n",
    "\n",
    "    # dates\n",
    "    print(\"status ok\")\n",
    "    for i in range(1,6):\n",
    "        x['year{}'.format(i)] = le.fit_transform(df['date{}'.format(i)].transform(lambda x: x[-4:-1]+x[-1]))\n",
    "    for i in range(1,6):\n",
    "        x['month{}'.format(i)] = le.fit_transform(df['date{}'.format(i)].transform(lambda x: x[-7:-5]))\n",
    "\n",
    "    # urban types\n",
    "    print(\"date ok\")\n",
    "    x['urban_types'] = le.fit_transform(df['urban_types'])\n",
    "    print(\"urban ok\")\n",
    "\n",
    "    # geography types\n",
    "    geography_types_map = {'River': 0,'Sparse Forest': 1,'Grass Land': 2,'Farms': 3,'Lakes': 4,'Barren Land': 5,'Coastal': 6,'Dense Forest': 7,'None': 8,'Hills': 9,'Desert': 10,'Snow': 11}\n",
    "    for geography_type in geography_types_map:\n",
    "        x[geography_type] = 0\n",
    "\n",
    "    # for i, geography_features in enumerate(df.loc[:, ('geography_types')]):\n",
    "    #     features = geography_features.split(',')\n",
    "    #     for feature in features:\n",
    "    #         x[feature][i] = 1\n",
    "\n",
    "    # geometry features\n",
    "    # area\n",
    "    print(\"okk\")\n",
    "    x['area'] = df[['geometry']].area\n",
    "    # perimeter\n",
    "    x['perimeter'] = df[['geometry']].length\n",
    "    # centroid of the polygon\n",
    "    x['x_centroid'] = df[['geometry']].centroid.x\n",
    "    x['y_centroid'] = df[['geometry']].centroid.y\n",
    "    # length on the x and y axis\n",
    "    x['delta_x'] = df[['geometry']].bounds.maxx.subtract(df[['geometry']].bounds.minx)\n",
    "    x['delta_y'] = df[['geometry']].bounds.maxy.subtract(df[['geometry']].bounds.miny)\n",
    "    # angle of the diagonal of the rectangle made by delta_x and delta_y\n",
    "    x['angle_diago'] = (x['delta_x'].div((x['delta_x'].apply(lambda x: x**2) + x['delta_y'].apply(lambda x: x**2)).apply(np.sqrt))).apply(np.arccos)\n",
    "\n",
    "    return x"
   ]
  },
  {
   "cell_type": "code",
   "execution_count": 4,
   "metadata": {},
   "outputs": [
    {
     "name": "stdout",
     "output_type": "stream",
     "text": [
      "status ok\n",
      "date ok\n",
      "urban ok\n",
      "okk\n",
      "status ok\n",
      "date ok\n",
      "urban ok\n",
      "okk\n",
      "(310006, 35)\n",
      "(121704, 35)\n"
     ]
    }
   ],
   "source": [
    "x_train = get_x(train_df)\n",
    "x_test = get_x(test_df)\n",
    "print(x_train.shape)\n",
    "print(x_test.shape)"
   ]
  },
  {
   "cell_type": "code",
   "execution_count": 5,
   "metadata": {},
   "outputs": [],
   "source": [
    "change_type_map = {'Demolition': np.array([1,0,0,0,0,0]), 'Road': np.array([0,1,0,0,0,0]), 'Residential': np.array([0,0,1,0,0,0]), 'Commercial': np.array([0,0,0,1,0,0]), 'Industrial': np.array([0,0,0,0,1,0]),\n",
    "                   'Mega Projects': np.array([0,0,0,0,0,1])}\n",
    "\n",
    "train_y = train_df['change_type'].apply(lambda x: change_type_map[x])"
   ]
  },
  {
   "cell_type": "code",
   "execution_count": 16,
   "metadata": {},
   "outputs": [],
   "source": [
    "from sklearn.decomposition import PCA\n",
    "import matplotlib.pyplot as plt\n",
    "\n",
    "s=[]\n",
    "# for n in range(3,35,2):\n",
    "#     pca = PCA(n_components=n)\n",
    "#     pca.fit(x_train)\n",
    "#     s.append(pca.score(x_train))\n",
    "pca = PCA(n_components=15)\n",
    "x_train = pca.fit_transform(x_train)\n",
    "# plt.plot(list(range(3,35,2)),s)"
   ]
  },
  {
   "cell_type": "code",
   "execution_count": 17,
   "metadata": {},
   "outputs": [],
   "source": [
    "import tensorflow as tf\n",
    "from keras import layers\n",
    "from keras import regularizers\n",
    "\n",
    "modele = tf.keras.Sequential([\n",
    "layers.Dense(50, activation = 'relu', input_shape = [x_train.shape[1]]),\n",
    "layers.Dropout(0.4),\n",
    "layers.Dense(30, activity_regularizer=regularizers.l2(1e-3), kernel_regularizer=regularizers.l1_l2(l1=1e-3, l2=1e-3), bias_regularizer=regularizers.l2(1e-3), activation = 'relu'),\n",
    "layers.Dropout(0.3),\n",
    "layers.Dense(6, activation = 'softmax')])"
   ]
  },
  {
   "cell_type": "code",
   "execution_count": 18,
   "metadata": {},
   "outputs": [],
   "source": [
    "modele.compile(loss = 'categorical_crossentropy',\n",
    "optimizer = tf.keras.optimizers.Adadelta(learning_rate=1.0, rho=0.95, epsilon=1e-07, name=\"Adadelta\"),\n",
    "metrics = ['accuracy'])"
   ]
  },
  {
   "cell_type": "code",
   "execution_count": 19,
   "metadata": {},
   "outputs": [],
   "source": [
    "train_y = np.stack(np.array(train_y))"
   ]
  },
  {
   "cell_type": "code",
   "execution_count": 20,
   "metadata": {},
   "outputs": [
    {
     "name": "stdout",
     "output_type": "stream",
     "text": [
      "Epoch 1/30\n",
      "1938/1938 [==============================] - 5s 2ms/step - loss: 1.3005 - accuracy: 0.5753 - val_loss: 0.8768 - val_accuracy: 0.6382\n",
      "Epoch 2/30\n",
      "1938/1938 [==============================] - 4s 2ms/step - loss: 0.8560 - accuracy: 0.6518 - val_loss: 0.8500 - val_accuracy: 0.6373\n",
      "Epoch 3/30\n",
      "1938/1938 [==============================] - 4s 2ms/step - loss: 0.8326 - accuracy: 0.6595 - val_loss: 0.8407 - val_accuracy: 0.6384\n",
      "Epoch 4/30\n",
      "1938/1938 [==============================] - 4s 2ms/step - loss: 0.8252 - accuracy: 0.6628 - val_loss: 0.8357 - val_accuracy: 0.6529\n",
      "Epoch 5/30\n",
      "1938/1938 [==============================] - 4s 2ms/step - loss: 0.8202 - accuracy: 0.6649 - val_loss: 0.8358 - val_accuracy: 0.6412\n",
      "Epoch 6/30\n",
      "1938/1938 [==============================] - 4s 2ms/step - loss: 0.8165 - accuracy: 0.6663 - val_loss: 0.8357 - val_accuracy: 0.6458\n",
      "Epoch 7/30\n",
      "1938/1938 [==============================] - 4s 2ms/step - loss: 0.8131 - accuracy: 0.6670 - val_loss: 0.8475 - val_accuracy: 0.6346\n",
      "Epoch 8/30\n",
      "1938/1938 [==============================] - 3s 2ms/step - loss: 0.8114 - accuracy: 0.6685 - val_loss: 0.8344 - val_accuracy: 0.6303\n",
      "Epoch 9/30\n",
      "1938/1938 [==============================] - 3s 2ms/step - loss: 0.8090 - accuracy: 0.6696 - val_loss: 0.8381 - val_accuracy: 0.6317\n",
      "Epoch 10/30\n",
      "1938/1938 [==============================] - 3s 2ms/step - loss: 0.8083 - accuracy: 0.6686 - val_loss: 0.8398 - val_accuracy: 0.6377\n",
      "Epoch 11/30\n",
      "1938/1938 [==============================] - 3s 2ms/step - loss: 0.8074 - accuracy: 0.6693 - val_loss: 0.8367 - val_accuracy: 0.6437\n",
      "Epoch 12/30\n",
      "1938/1938 [==============================] - 4s 2ms/step - loss: 0.8057 - accuracy: 0.6697 - val_loss: 0.8365 - val_accuracy: 0.6395\n",
      "Epoch 13/30\n",
      "1938/1938 [==============================] - 4s 2ms/step - loss: 0.8041 - accuracy: 0.6709 - val_loss: 0.8455 - val_accuracy: 0.6376\n",
      "Epoch 14/30\n",
      "1938/1938 [==============================] - 3s 2ms/step - loss: 0.8037 - accuracy: 0.6701 - val_loss: 0.8609 - val_accuracy: 0.6188\n",
      "Epoch 15/30\n",
      "1938/1938 [==============================] - 3s 2ms/step - loss: 0.8022 - accuracy: 0.6700 - val_loss: 0.8525 - val_accuracy: 0.6280\n",
      "Epoch 16/30\n",
      "1938/1938 [==============================] - 3s 2ms/step - loss: 0.8007 - accuracy: 0.6711 - val_loss: 0.8373 - val_accuracy: 0.6360\n",
      "Epoch 17/30\n",
      "1938/1938 [==============================] - 4s 2ms/step - loss: 0.8005 - accuracy: 0.6715 - val_loss: 0.8468 - val_accuracy: 0.6308\n",
      "Epoch 18/30\n",
      "1938/1938 [==============================] - 3s 2ms/step - loss: 0.7997 - accuracy: 0.6719 - val_loss: 0.8403 - val_accuracy: 0.6398\n",
      "Epoch 19/30\n",
      "1938/1938 [==============================] - 3s 2ms/step - loss: 0.7992 - accuracy: 0.6716 - val_loss: 0.8301 - val_accuracy: 0.6346\n",
      "Epoch 20/30\n",
      "1938/1938 [==============================] - 4s 2ms/step - loss: 0.7989 - accuracy: 0.6726 - val_loss: 0.8701 - val_accuracy: 0.6075\n",
      "Epoch 21/30\n",
      "1938/1938 [==============================] - 4s 2ms/step - loss: 0.7986 - accuracy: 0.6718 - val_loss: 0.8303 - val_accuracy: 0.6428\n",
      "Epoch 22/30\n",
      "1938/1938 [==============================] - 3s 2ms/step - loss: 0.7981 - accuracy: 0.6721 - val_loss: 0.8389 - val_accuracy: 0.6315\n",
      "Epoch 23/30\n",
      "1938/1938 [==============================] - 3s 2ms/step - loss: 0.7976 - accuracy: 0.6727 - val_loss: 0.8333 - val_accuracy: 0.6416\n",
      "Epoch 24/30\n",
      "1938/1938 [==============================] - 3s 2ms/step - loss: 0.7972 - accuracy: 0.6716 - val_loss: 0.8371 - val_accuracy: 0.6377\n",
      "Epoch 25/30\n",
      "1938/1938 [==============================] - 3s 2ms/step - loss: 0.7967 - accuracy: 0.6723 - val_loss: 0.8361 - val_accuracy: 0.6390\n",
      "Epoch 26/30\n",
      "1938/1938 [==============================] - 3s 2ms/step - loss: 0.7957 - accuracy: 0.6739 - val_loss: 0.8344 - val_accuracy: 0.6342\n",
      "Epoch 27/30\n",
      "1938/1938 [==============================] - 3s 2ms/step - loss: 0.7953 - accuracy: 0.6737 - val_loss: 0.8316 - val_accuracy: 0.6402\n",
      "Epoch 28/30\n",
      "1938/1938 [==============================] - 3s 2ms/step - loss: 0.7960 - accuracy: 0.6726 - val_loss: 0.8382 - val_accuracy: 0.6397\n",
      "Epoch 29/30\n",
      "1938/1938 [==============================] - 3s 2ms/step - loss: 0.7965 - accuracy: 0.6729 - val_loss: 0.8386 - val_accuracy: 0.6394\n",
      "Epoch 30/30\n",
      "1938/1938 [==============================] - 4s 2ms/step - loss: 0.7958 - accuracy: 0.6732 - val_loss: 0.8323 - val_accuracy: 0.6383\n"
     ]
    },
    {
     "data": {
      "text/plain": [
       "<keras.callbacks.History at 0x1e2c4214c10>"
      ]
     },
     "execution_count": 20,
     "metadata": {},
     "output_type": "execute_result"
    }
   ],
   "source": [
    "modele.fit(x_train, train_y, epochs = 30, validation_split = 0.2, batch_size=128)"
   ]
  },
  {
   "cell_type": "code",
   "execution_count": 21,
   "metadata": {},
   "outputs": [
    {
     "ename": "ValueError",
     "evalue": "in user code:\n\n    File \"C:\\Users\\remib\\anaconda3\\lib\\site-packages\\keras\\engine\\training.py\", line 1621, in predict_function  *\n        return step_function(self, iterator)\n    File \"C:\\Users\\remib\\anaconda3\\lib\\site-packages\\keras\\engine\\training.py\", line 1611, in step_function  **\n        outputs = model.distribute_strategy.run(run_step, args=(data,))\n    File \"C:\\Users\\remib\\anaconda3\\lib\\site-packages\\keras\\engine\\training.py\", line 1604, in run_step  **\n        outputs = model.predict_step(data)\n    File \"C:\\Users\\remib\\anaconda3\\lib\\site-packages\\keras\\engine\\training.py\", line 1572, in predict_step\n        return self(x, training=False)\n    File \"C:\\Users\\remib\\anaconda3\\lib\\site-packages\\keras\\utils\\traceback_utils.py\", line 67, in error_handler\n        raise e.with_traceback(filtered_tb) from None\n    File \"C:\\Users\\remib\\anaconda3\\lib\\site-packages\\keras\\engine\\input_spec.py\", line 263, in assert_input_compatibility\n        raise ValueError(f'Input {input_index} of layer \"{layer_name}\" is '\n\n    ValueError: Input 0 of layer \"sequential_1\" is incompatible with the layer: expected shape=(None, 15), found shape=(None, 35)\n",
     "output_type": "error",
     "traceback": [
      "\u001b[1;31m---------------------------------------------------------------------------\u001b[0m",
      "\u001b[1;31mValueError\u001b[0m                                Traceback (most recent call last)",
      "\u001b[1;32m<ipython-input-21-31cd57ca2a66>\u001b[0m in \u001b[0;36m<module>\u001b[1;34m\u001b[0m\n\u001b[1;32m----> 1\u001b[1;33m \u001b[0mpred\u001b[0m \u001b[1;33m=\u001b[0m \u001b[0mmodele\u001b[0m\u001b[1;33m.\u001b[0m\u001b[0mpredict\u001b[0m\u001b[1;33m(\u001b[0m\u001b[0mx_test\u001b[0m\u001b[1;33m)\u001b[0m\u001b[1;33m\u001b[0m\u001b[1;33m\u001b[0m\u001b[0m\n\u001b[0m",
      "\u001b[1;32m~\\anaconda3\\lib\\site-packages\\keras\\utils\\traceback_utils.py\u001b[0m in \u001b[0;36merror_handler\u001b[1;34m(*args, **kwargs)\u001b[0m\n\u001b[0;32m     65\u001b[0m     \u001b[1;32mexcept\u001b[0m \u001b[0mException\u001b[0m \u001b[1;32mas\u001b[0m \u001b[0me\u001b[0m\u001b[1;33m:\u001b[0m  \u001b[1;31m# pylint: disable=broad-except\u001b[0m\u001b[1;33m\u001b[0m\u001b[1;33m\u001b[0m\u001b[0m\n\u001b[0;32m     66\u001b[0m       \u001b[0mfiltered_tb\u001b[0m \u001b[1;33m=\u001b[0m \u001b[0m_process_traceback_frames\u001b[0m\u001b[1;33m(\u001b[0m\u001b[0me\u001b[0m\u001b[1;33m.\u001b[0m\u001b[0m__traceback__\u001b[0m\u001b[1;33m)\u001b[0m\u001b[1;33m\u001b[0m\u001b[1;33m\u001b[0m\u001b[0m\n\u001b[1;32m---> 67\u001b[1;33m       \u001b[1;32mraise\u001b[0m \u001b[0me\u001b[0m\u001b[1;33m.\u001b[0m\u001b[0mwith_traceback\u001b[0m\u001b[1;33m(\u001b[0m\u001b[0mfiltered_tb\u001b[0m\u001b[1;33m)\u001b[0m \u001b[1;32mfrom\u001b[0m \u001b[1;32mNone\u001b[0m\u001b[1;33m\u001b[0m\u001b[1;33m\u001b[0m\u001b[0m\n\u001b[0m\u001b[0;32m     68\u001b[0m     \u001b[1;32mfinally\u001b[0m\u001b[1;33m:\u001b[0m\u001b[1;33m\u001b[0m\u001b[1;33m\u001b[0m\u001b[0m\n\u001b[0;32m     69\u001b[0m       \u001b[1;32mdel\u001b[0m \u001b[0mfiltered_tb\u001b[0m\u001b[1;33m\u001b[0m\u001b[1;33m\u001b[0m\u001b[0m\n",
      "\u001b[1;32m~\\anaconda3\\lib\\site-packages\\tensorflow\\python\\framework\\func_graph.py\u001b[0m in \u001b[0;36mautograph_handler\u001b[1;34m(*args, **kwargs)\u001b[0m\n\u001b[0;32m   1127\u001b[0m           \u001b[1;32mexcept\u001b[0m \u001b[0mException\u001b[0m \u001b[1;32mas\u001b[0m \u001b[0me\u001b[0m\u001b[1;33m:\u001b[0m  \u001b[1;31m# pylint:disable=broad-except\u001b[0m\u001b[1;33m\u001b[0m\u001b[1;33m\u001b[0m\u001b[0m\n\u001b[0;32m   1128\u001b[0m             \u001b[1;32mif\u001b[0m \u001b[0mhasattr\u001b[0m\u001b[1;33m(\u001b[0m\u001b[0me\u001b[0m\u001b[1;33m,\u001b[0m \u001b[1;34m\"ag_error_metadata\"\u001b[0m\u001b[1;33m)\u001b[0m\u001b[1;33m:\u001b[0m\u001b[1;33m\u001b[0m\u001b[1;33m\u001b[0m\u001b[0m\n\u001b[1;32m-> 1129\u001b[1;33m               \u001b[1;32mraise\u001b[0m \u001b[0me\u001b[0m\u001b[1;33m.\u001b[0m\u001b[0mag_error_metadata\u001b[0m\u001b[1;33m.\u001b[0m\u001b[0mto_exception\u001b[0m\u001b[1;33m(\u001b[0m\u001b[0me\u001b[0m\u001b[1;33m)\u001b[0m\u001b[1;33m\u001b[0m\u001b[1;33m\u001b[0m\u001b[0m\n\u001b[0m\u001b[0;32m   1130\u001b[0m             \u001b[1;32melse\u001b[0m\u001b[1;33m:\u001b[0m\u001b[1;33m\u001b[0m\u001b[1;33m\u001b[0m\u001b[0m\n\u001b[0;32m   1131\u001b[0m               \u001b[1;32mraise\u001b[0m\u001b[1;33m\u001b[0m\u001b[1;33m\u001b[0m\u001b[0m\n",
      "\u001b[1;31mValueError\u001b[0m: in user code:\n\n    File \"C:\\Users\\remib\\anaconda3\\lib\\site-packages\\keras\\engine\\training.py\", line 1621, in predict_function  *\n        return step_function(self, iterator)\n    File \"C:\\Users\\remib\\anaconda3\\lib\\site-packages\\keras\\engine\\training.py\", line 1611, in step_function  **\n        outputs = model.distribute_strategy.run(run_step, args=(data,))\n    File \"C:\\Users\\remib\\anaconda3\\lib\\site-packages\\keras\\engine\\training.py\", line 1604, in run_step  **\n        outputs = model.predict_step(data)\n    File \"C:\\Users\\remib\\anaconda3\\lib\\site-packages\\keras\\engine\\training.py\", line 1572, in predict_step\n        return self(x, training=False)\n    File \"C:\\Users\\remib\\anaconda3\\lib\\site-packages\\keras\\utils\\traceback_utils.py\", line 67, in error_handler\n        raise e.with_traceback(filtered_tb) from None\n    File \"C:\\Users\\remib\\anaconda3\\lib\\site-packages\\keras\\engine\\input_spec.py\", line 263, in assert_input_compatibility\n        raise ValueError(f'Input {input_index} of layer \"{layer_name}\" is '\n\n    ValueError: Input 0 of layer \"sequential_1\" is incompatible with the layer: expected shape=(None, 15), found shape=(None, 35)\n"
     ]
    }
   ],
   "source": [
    "pred = modele.predict(x_test)"
   ]
  },
  {
   "cell_type": "code",
   "execution_count": null,
   "metadata": {},
   "outputs": [],
   "source": [
    "pred_submit = []\n",
    "for i in range(len(pred)):\n",
    "    max_proba  = max(pred[i])\n",
    "    prediction = list(pred[i]).index(max_proba)\n",
    "    pred_submit.append(prediction)\n",
    "\n",
    "pred_df = pd.DataFrame(pred_submit, columns=['change_type'])\n",
    "pred_df.to_csv(\"knn_sample_submission.csv\", index=True, index_label='Id')"
   ]
  }
 ],
 "metadata": {
  "interpreter": {
   "hash": "c4dd97f6e63f3ceeed1d89e97c28c3f49dd4b825c09c4f028583faf315403134"
  },
  "kernelspec": {
   "display_name": "Python 3.8.5 64-bit ('base': conda)",
   "language": "python",
   "name": "python3"
  },
  "language_info": {
   "codemirror_mode": {
    "name": "ipython",
    "version": 3
   },
   "file_extension": ".py",
   "mimetype": "text/x-python",
   "name": "python",
   "nbconvert_exporter": "python",
   "pygments_lexer": "ipython3",
   "version": "3.8.5"
  },
  "orig_nbformat": 4
 },
 "nbformat": 4,
 "nbformat_minor": 2
}
