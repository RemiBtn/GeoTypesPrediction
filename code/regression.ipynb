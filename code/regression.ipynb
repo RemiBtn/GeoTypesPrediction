{
 "cells": [
  {
   "cell_type": "code",
   "execution_count": 1,
   "id": "c5c3498b",
   "metadata": {},
   "outputs": [],
   "source": [
    "import geopandas as gpd\n",
    "from sklearn.preprocessing import LabelEncoder\n",
    "import numpy as np\n",
    "import pandas as pd\n",
    "import matplotlib.pyplot as plt\n",
    "from matplotlib.colors import ListedColormap\n",
    "from sklearn.svm import SVC\n",
    "from sklearn.model_selection import train_test_split, GridSearchCV\n",
    "from sklearn import datasets\n",
    "from sklearn.metrics import classification_report\n",
    "import scipy.optimize as op"
   ]
  },
  {
   "cell_type": "code",
   "execution_count": 2,
   "id": "57673beb",
   "metadata": {},
   "outputs": [],
   "source": [
    "# Read csvs\n",
    "\n",
    "train_df = gpd.read_file('train.geojson', index_col=0)\n",
    "test_df = gpd.read_file('test.geojson', index_col=0)"
   ]
  },
  {
   "cell_type": "code",
   "execution_count": 4,
   "id": "abb24d0d",
   "metadata": {},
   "outputs": [
    {
     "name": "stderr",
     "output_type": "stream",
     "text": [
      "C:\\Users\\Guillaume\\anaconda3\\lib\\site-packages\\pandas\\core\\indexing.py:1732: SettingWithCopyWarning: \n",
      "A value is trying to be set on a copy of a slice from a DataFrame\n",
      "\n",
      "See the caveats in the documentation: https://pandas.pydata.org/pandas-docs/stable/user_guide/indexing.html#returning-a-view-versus-a-copy\n",
      "  self._setitem_single_block(indexer, value, name)\n",
      "C:\\Users\\GUILLA~1\\AppData\\Local\\Temp/ipykernel_12408/581024217.py:35: UserWarning: Geometry is in a geographic CRS. Results from 'area' are likely incorrect. Use 'GeoSeries.to_crs()' to re-project geometries to a projected CRS before this operation.\n",
      "\n",
      "  x['area'] = df[['geometry']].area\n",
      "C:\\Users\\GUILLA~1\\AppData\\Local\\Temp/ipykernel_12408/581024217.py:37: UserWarning: Geometry is in a geographic CRS. Results from 'length' are likely incorrect. Use 'GeoSeries.to_crs()' to re-project geometries to a projected CRS before this operation.\n",
      "\n",
      "  x['perimeter'] = df[['geometry']].length\n",
      "C:\\Users\\GUILLA~1\\AppData\\Local\\Temp/ipykernel_12408/581024217.py:39: UserWarning: Geometry is in a geographic CRS. Results from 'centroid' are likely incorrect. Use 'GeoSeries.to_crs()' to re-project geometries to a projected CRS before this operation.\n",
      "\n",
      "  x['x_centroid'] = df[['geometry']].centroid.x\n",
      "C:\\Users\\GUILLA~1\\AppData\\Local\\Temp/ipykernel_12408/581024217.py:40: UserWarning: Geometry is in a geographic CRS. Results from 'centroid' are likely incorrect. Use 'GeoSeries.to_crs()' to re-project geometries to a projected CRS before this operation.\n",
      "\n",
      "  x['y_centroid'] = df[['geometry']].centroid.y\n"
     ]
    },
    {
     "name": "stdout",
     "output_type": "stream",
     "text": [
      "(310006, 34)\n",
      "(121704, 34)\n"
     ]
    }
   ],
   "source": [
    "# Filtering columns on training set\n",
    "le = LabelEncoder()\n",
    "\n",
    "change_type_map = {'Demolition': 0, 'Road': 1, 'Residential': 2, 'Commercial': 3, 'Industrial': 4, 'Mega Projects': 5}\n",
    "y_train = pd.DataFrame(train_df['change_type'].apply(lambda x: change_type_map[x]))\n",
    "\n",
    "def get_x(df):\n",
    "    x = pd.DataFrame()\n",
    "\n",
    "    # status dates\n",
    "    for i in range(1,6):\n",
    "        x['change_status_date{}'.format(i)] = le.fit_transform(df['change_status_date{}'.format(i)])\n",
    "\n",
    "    # dates\n",
    "    for i in range(1,6):\n",
    "        x['year{}'.format(i)] = le.fit_transform(df['date{}'.format(i)].transform(lambda x: x[-4:-1]+x[-1]))\n",
    "    for i in range(1,6):\n",
    "        x['month{}'.format(i)] = le.fit_transform(df['date{}'.format(i)].transform(lambda x: x[-7:-5]))\n",
    "\n",
    "    # urban types\n",
    "    x['urban_types'] = le.fit_transform(df['urban_types'])\n",
    "\n",
    "    # geography types\n",
    "    geography_types_map = {'River': 0,'Sparse Forest': 1,'Grass Land': 2,'Farms': 3,'Lakes': 4,'Barren Land': 5,'Coastal': 6,'Dense Forest': 7,'None': 8,'Hills': 9,'Desert': 10,'Snow': 11}\n",
    "    for geography_type in geography_types_map:\n",
    "        x[geography_type] = 0\n",
    "\n",
    "    for i, geography_features in enumerate(df.loc[:, ('geography_types')]):\n",
    "        features = geography_features.split(',')\n",
    "        for feature in features:\n",
    "            x[feature].loc[i] = 1\n",
    "\n",
    "    # geometry features\n",
    "    # area\n",
    "    x['area'] = df[['geometry']].area\n",
    "    # perimeter\n",
    "    x['perimeter'] = df[['geometry']].length\n",
    "    # centroid of the polygon\n",
    "    x['x_centroid'] = df[['geometry']].centroid.x\n",
    "    x['y_centroid'] = df[['geometry']].centroid.y\n",
    "    # length on the x and y axis\n",
    "    x['delta_x'] = df[['geometry']].bounds.maxx.subtract(df[['geometry']].bounds.minx)\n",
    "    x['delta_y'] = df[['geometry']].bounds.maxy.subtract(df[['geometry']].bounds.miny)\n",
    "    # angle of the diagonal of the rectangle made by delta_x and delta_y\n",
    "    #x['angle_diago'] = (x['delta_x'].div((x['delta_x'].apply(lambda x: x**2) + x['delta_y'].apply(lambda x: x**2)).apply(np.sqrt))).apply(np.arccos)\n",
    "\n",
    "    return x\n",
    "\n",
    "x_train = get_x(train_df)\n",
    "x_test = get_x(test_df)\n",
    "print(x_train.shape)\n",
    "print(x_test.shape)\n"
   ]
  },
  {
   "cell_type": "code",
   "execution_count": 66,
   "id": "c026349d",
   "metadata": {},
   "outputs": [],
   "source": [
    "random_state = 42\n",
    "x_train_split, x_test_split, y_train_split, y_test_split = train_test_split(x_train, y_train, test_size=0.3, random_state=random_state)\n",
    "x_train_split, x_test_split, y_train_split, y_test_split=x_train_split.values[:200,:], x_test_split.values[:200,:], y_train_split.values[:200,:], y_test_split.values[:200,:]\n",
    "X,y=x_train_split,y_train_split\n",
    "theta = [0]*x_train_split.shape[1]"
   ]
  },
  {
   "cell_type": "code",
   "execution_count": 67,
   "id": "c9b2753a",
   "metadata": {},
   "outputs": [],
   "source": [
    "def sigmoid(x):\n",
    "    # Activation function used to map any real value between 0 and 1\n",
    "    return 1 / (1 + np.exp(-x))\n",
    "\n",
    "def net_input(theta, x):\n",
    "    # Computes the weighted sum of inputs\n",
    "    return np.dot(x, theta)\n",
    "\n",
    "def probability(theta, x):\n",
    "    # Returns the probability after passing through sigmoid\n",
    "    return sigmoid(net_input(theta, x))"
   ]
  },
  {
   "cell_type": "code",
   "execution_count": 68,
   "id": "5fe07ef2",
   "metadata": {},
   "outputs": [],
   "source": [
    "def cost_function(self, theta, x, y):\n",
    "    # Computes the cost function for all the training samples\n",
    "    m = x.shape[0]\n",
    "    total_cost = -(1 / m) * np.sum(\n",
    "        y * np.log(probability(theta, x)) + (1 - y) * np.log(\n",
    "            1 - probability(theta, x)))\n",
    "    return total_cost\n",
    "\n",
    "def gradient(self, theta, x, y):\n",
    "    # Computes the gradient of the cost function at the point theta\n",
    "    m = x.shape[0]\n",
    "    return (1 / m) * np.dot(x.T, sigmoid(net_input(theta,   x)) - y)"
   ]
  },
  {
   "cell_type": "code",
   "execution_count": 69,
   "id": "03cb2f30",
   "metadata": {},
   "outputs": [],
   "source": [
    "from scipy.optimize import fmin_tnc"
   ]
  },
  {
   "cell_type": "code",
   "execution_count": 70,
   "id": "0888a0ae",
   "metadata": {},
   "outputs": [
    {
     "ename": "TypeError",
     "evalue": "fit() missing 1 required positional argument: 'theta'",
     "output_type": "error",
     "traceback": [
      "\u001b[1;31m---------------------------------------------------------------------------\u001b[0m",
      "\u001b[1;31mTypeError\u001b[0m                                 Traceback (most recent call last)",
      "\u001b[1;32mC:\\Users\\GUILLA~1\\AppData\\Local\\Temp/ipykernel_12408/1847466182.py\u001b[0m in \u001b[0;36m<module>\u001b[1;34m\u001b[0m\n\u001b[0;32m      4\u001b[0m     \u001b[1;32mreturn\u001b[0m \u001b[0mopt_weights\u001b[0m\u001b[1;33m[\u001b[0m\u001b[1;36m0\u001b[0m\u001b[1;33m]\u001b[0m\u001b[1;33m\u001b[0m\u001b[1;33m\u001b[0m\u001b[0m\n\u001b[0;32m      5\u001b[0m \u001b[1;33m\u001b[0m\u001b[0m\n\u001b[1;32m----> 6\u001b[1;33m \u001b[0mparameters\u001b[0m \u001b[1;33m=\u001b[0m \u001b[0mfit\u001b[0m\u001b[1;33m(\u001b[0m\u001b[0mX\u001b[0m\u001b[1;33m,\u001b[0m \u001b[0my\u001b[0m\u001b[1;33m,\u001b[0m\u001b[0mtheta\u001b[0m\u001b[1;33m)\u001b[0m\u001b[1;33m\u001b[0m\u001b[1;33m\u001b[0m\u001b[0m\n\u001b[0m",
      "\u001b[1;31mTypeError\u001b[0m: fit() missing 1 required positional argument: 'theta'"
     ]
    }
   ],
   "source": [
    "\n",
    "def fit(self, x, y, theta):\n",
    "    opt_weights = fmin_tnc(func=cost_function, x0=theta,\n",
    "                  fprime=gradient,args=(x, y.flatten()))\n",
    "    return opt_weights[0]\n",
    "\n",
    "parameters = fit(X, y,theta)"
   ]
  },
  {
   "cell_type": "code",
   "execution_count": 41,
   "id": "12d0199a",
   "metadata": {},
   "outputs": [],
   "source": [
    "# Sigmoid function\n",
    "def sigmoid(z):\n",
    "    return 1/(1+np.exp(-z))\n",
    "\n",
    "# Logit function\n",
    "def logit(z):\n",
    "    return np.log(z/(1-z))"
   ]
  },
  {
   "cell_type": "code",
   "execution_count": 42,
   "id": "3c651c00",
   "metadata": {},
   "outputs": [],
   "source": [
    "# Dependence on X,y is implicit\n",
    "# X, y are defined globally\n",
    "def computeCost(theta):\n",
    "    J1 = np.dot(y_train_split.T, np.log(sigmoid(x_train_split.dot(theta))))\n",
    "    J2 = np.dot((1-y_train_split).T,np.log(1-sigmoid(x_train_split.dot(theta))))\n",
    "    return (-1/x_train.shape[0]) * (J1 + J2)"
   ]
  },
  {
   "cell_type": "code",
   "execution_count": 43,
   "id": "4fd220ce",
   "metadata": {},
   "outputs": [],
   "source": [
    "# Dependence on X,y is implicit\n",
    "# X, y are defined globally\n",
    "def computeGrad(theta):\n",
    "    # Computes the gradient of the cost with respect to\n",
    "    # the parameters.\n",
    "    \n",
    "    return (-1/x_train_split.shape[0]) * np.dot(x_train_split.T, (y_train_split - sigmoid(x_train_split.dot(theta))))"
   ]
  },
  {
   "cell_type": "code",
   "execution_count": 52,
   "id": "86cfe417",
   "metadata": {},
   "outputs": [
    {
     "ename": "NameError",
     "evalue": "name 'fmin_tnc' is not defined",
     "output_type": "error",
     "traceback": [
      "\u001b[1;31m---------------------------------------------------------------------------\u001b[0m",
      "\u001b[1;31mNameError\u001b[0m                                 Traceback (most recent call last)",
      "\u001b[1;32mC:\\Users\\GUILLA~1\\AppData\\Local\\Temp/ipykernel_12408/1833635991.py\u001b[0m in \u001b[0;36m<module>\u001b[1;34m\u001b[0m\n\u001b[0;32m      4\u001b[0m \u001b[1;31m# Run minimize() to obtain the optimal theta\u001b[0m\u001b[1;33m\u001b[0m\u001b[1;33m\u001b[0m\u001b[1;33m\u001b[0m\u001b[0m\n\u001b[0;32m      5\u001b[0m \u001b[1;31m#Result = op.minimize(fun=computeCost, x0=theta, method = 'TNC', jac=computeGrad);\u001b[0m\u001b[1;33m\u001b[0m\u001b[1;33m\u001b[0m\u001b[1;33m\u001b[0m\u001b[0m\n\u001b[1;32m----> 6\u001b[1;33m \u001b[0mparameters\u001b[0m\u001b[1;33m=\u001b[0m\u001b[0mfmin_tnc\u001b[0m\u001b[1;33m(\u001b[0m\u001b[0mfunc\u001b[0m\u001b[1;33m=\u001b[0m\u001b[0mcomputeCost\u001b[0m\u001b[1;33m,\u001b[0m \u001b[0mx0\u001b[0m\u001b[1;33m=\u001b[0m\u001b[0mtheta\u001b[0m\u001b[1;33m,\u001b[0m \u001b[0mfprime\u001b[0m\u001b[1;33m=\u001b[0m\u001b[0mcomputeGrad\u001b[0m\u001b[1;33m,\u001b[0m \u001b[0mapprox_grad\u001b[0m\u001b[1;33m=\u001b[0m\u001b[1;32mTrue\u001b[0m\u001b[1;33m,\u001b[0m \u001b[0margs\u001b[0m\u001b[1;33m=\u001b[0m\u001b[1;33m(\u001b[0m\u001b[0mx_train_split\u001b[0m\u001b[1;33m,\u001b[0m \u001b[0my_train_split\u001b[0m\u001b[1;33m.\u001b[0m\u001b[0mflatten\u001b[0m\u001b[1;33m(\u001b[0m\u001b[1;33m)\u001b[0m\u001b[1;33m)\u001b[0m\u001b[1;33m)\u001b[0m\u001b[1;33m[\u001b[0m\u001b[1;36m0\u001b[0m\u001b[1;33m]\u001b[0m\u001b[1;33m\u001b[0m\u001b[1;33m\u001b[0m\u001b[0m\n\u001b[0m\u001b[0;32m      7\u001b[0m \u001b[1;31m#theta = Result.x\u001b[0m\u001b[1;33m\u001b[0m\u001b[1;33m\u001b[0m\u001b[1;33m\u001b[0m\u001b[0m\n\u001b[0;32m      8\u001b[0m \u001b[0mparameters\u001b[0m\u001b[1;33m\u001b[0m\u001b[1;33m\u001b[0m\u001b[0m\n",
      "\u001b[1;31mNameError\u001b[0m: name 'fmin_tnc' is not defined"
     ]
    }
   ],
   "source": [
    "# Initial value\n",
    "theta = [0]*x_train_split.shape[1]\n",
    "\n",
    "# Run minimize() to obtain the optimal theta\n",
    "#Result = op.minimize(fun=computeCost, x0=theta, method = 'TNC', jac=computeGrad);\n",
    "parameters=fmin_tnc(func=computeCost, x0=theta, fprime=computeGrad, approx_grad=True, args=(x_train_split, y_train_split.flatten()))[0]\n",
    "#theta = Result.x\n",
    "parameters"
   ]
  },
  {
   "cell_type": "code",
   "execution_count": null,
   "id": "dedfe875",
   "metadata": {},
   "outputs": [],
   "source": [
    "def predict(theta, X):\n",
    "    # Predict whether the label is 0 or 1 using learned logistic \n",
    "    # regression parameters theta. The threshold is set at 0.5\n",
    "    \n",
    "    prob = sigmoid(X.dot(theta))\n",
    "    pred = np.where(prob >= 0.5, 1, 0)\n",
    "    return pred"
   ]
  },
  {
   "cell_type": "code",
   "execution_count": null,
   "id": "cadb2c53",
   "metadata": {},
   "outputs": [],
   "source": [
    "# Compute accuracy on the training set\n",
    "p = predict(Result.x, x_test_split)\n",
    "counter = 0\n",
    "for i in range(y_test_split.size):\n",
    "    if p[i] == y_test_split[i]:\n",
    "        counter += 1\n",
    "print('Train Accuracy: {:.2f}'.format(counter / float(y_test_split.size) * 100.0))"
   ]
  }
 ],
 "metadata": {
  "kernelspec": {
   "display_name": "Python 3 (ipykernel)",
   "language": "python",
   "name": "python3"
  },
  "language_info": {
   "codemirror_mode": {
    "name": "ipython",
    "version": 3
   },
   "file_extension": ".py",
   "mimetype": "text/x-python",
   "name": "python",
   "nbconvert_exporter": "python",
   "pygments_lexer": "ipython3",
   "version": "3.8.3"
  }
 },
 "nbformat": 4,
 "nbformat_minor": 5
}
